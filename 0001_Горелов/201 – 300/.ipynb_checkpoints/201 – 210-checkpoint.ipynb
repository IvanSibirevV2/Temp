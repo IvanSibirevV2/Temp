{
 "cells": [
  {
   "cell_type": "markdown",
   "id": "e2f7c6e2",
   "metadata": {},
   "source": []
  },
  {
   "cell_type": "markdown",
   "id": "edd82eb9",
   "metadata": {},
   "source": [
    "_\n",
    "\n",
    "        listBox1.DataSource = bindingSource1;\n",
    "        list[2] = 777; // Изменяем значение в источнике данных.\n",
    "        label1.Text = ((int) listBox1.Items[2]).ToString);\n",
    "    }\n"
   ]
  },
  {
   "cell_type": "markdown",
   "id": "4b366d9f",
   "metadata": {},
   "source": [
    "В примере после создания источника с данными значимого типа и привязки элемента управления посредством соединителя к этому источнику, осуществляется изменение третьего элемента в источнике данных. Вывод на экран (в label1) третьего числа коллекции элемента управления показывает, что это число осталось прежним. Это состояние показано на рис. 18.4. Исходное значение также не изменилось.\n",
    "\n"
   ]
  },
  {
   "attachments": {
    "image.png": {
     "image/png": "[encoded data removed]"
    }
   },
   "cell_type": "markdown",
   "id": "a4443678",
   "metadata": {},
   "source": [
    "![image.png](attachment:image.png)"
   ]
  },
  {
   "cell_type": "markdown",
   "id": "6b14fb00",
   "metadata": {},
   "source": [
    "Рис. 18.4. Списки значимого типа\n",
    "\n",
    "Аналогично ведёт себя и тип string, поскольку он является неизменяемым типом данных. Можно сделать вывод, что из элемента управления, привязанного к списку значимого типа, не обновив привязку, нельзя использовать значение - используйте метод ResetBindings или подобный ему. __Другим решением проблемы__ является использование коллекции `BindingList<T>` вместо `List<T>`. В этом случае можно привязать списочный элемент управления непосредственно к коллекции `bindingList` типа `BindingList<T>: comboBox1.DataSource = bindingList;`. __Если данные источника являются объектами__, то в результате привязки в коллекцию элемента управления и в коллекцию источника данных копируются (как на рис. 18.4) ссылки на эти объекты. В отличие от значимых типов ссылки можно удалить, добавить, но не изменить. Теперь, если какой-либо объект будет изменен, ссылка в коллекции элемента управления будет указывать на измененные значения. Этот процесс проиллюстрирован на рис. 18.5.\n",
    "\n",
    "Страница 201\n",
    "\n",
    "-------------"
   ]
  },
  {
   "attachments": {
    "image.png": {
     "image/png": "[encoded data removed]"
    }
   },
   "cell_type": "markdown",
   "id": "5d4cea95",
   "metadata": {},
   "source": [
    "![image.png](attachment:image.png)"
   ]
  },
  {
   "cell_type": "markdown",
   "id": "5164d519",
   "metadata": {},
   "source": [
    "Рис. 18.5. Списки ссылочного типа\n",
    "\n",
    "Из рис. 18.5 следует, что если какой-либо объект будет изменен, то даже если элемент управления будет отображать старое значение, ссылка будет указывать на тот же объект, но с измененным(и) полем(полями). Остается только его перерисовать, используя метод `ResetBindings`. __Комментарий__. Почему строки типа string, являясь ссылочными, ведут себя как значимый тип? Строка является встроенным и неизменяемым типом данных, то есть при попытке изменить строку с помощью методов или операции присваивания, создается новая строка. Рис. 18.4 иллюстрирует ситуацию, когда после изменения строки в источнике данных, будет создана новая строка, а в элементе управления останется старая.\n",
    "$$***$$\n",
    "В заключение отметим следующее: __Во-первых__, Благодаря своим преимуществам компонент `BindingSource` является предпочтительным способом привязки сложных элементов управления `Windows Forms` к источникам данных. __Во-вторых__, Не забывайте в нужном месте выполнять обновление привязки и отображения данных спомощью методов `ResetBindings`, `ResetCurrentItem` или `ResetItem`.\n",
    "\n",
    "Страница 202\n",
    "\n",
    "------"
   ]
  },
  {
   "cell_type": "markdown",
   "id": "39fd6437",
   "metadata": {},
   "source": [
    "# 18.3. Простая привязка ОСНОВНЫЕ СВЕДЕНИЯ\n",
    "Для привязки простого элемента управления к источнику данных следует использовать свойство `DataBindings` этого элемента управления. (Речь идет об элементах управления, у которых отсутствует свойство `DataSource`.) Свойство `DataBindings` используется для доступа к коллекции `ControlBindingsCollection` привязок свойств элемента управления к источникам данных. Привязка является объектом типа `Binding`, который определяет параметры привязки, то есть коллекция `ControlBindingsCollection` состоит из этих объектов. __В отличие__ от сложной привязки списочных элементов управления, простая привязка является двусторонней: изменяется источник — изменяется и элемент управления, изменяется элемент управления — изменяется и источник. Однако в обратную сторону — от элемента управления к источнику — привязка срабатывает не всегда, как хотелось бы. Предлагаю читателю поэкспериментировать со свойствами Text двух элементов управления TextBox, привязывая один к другому. __Достоинство привязки__ заключается в том, что где бы в программе не изменялось свойство элемента управления или его исгочинка данных, разработчик, если он установил привязку, освобождается от контроля за этими изменениями. __Замечание__. Следует понимать, что речь идет об источниках, свойства которых оповещают привязку об изменениях своих значений. К таким источникам относятся, например, свойства элементов управления. Если Вы привяжите элемент управления к свойству, не поддерживающему привязку, то это свойство не будет оповещать элемент управления о своих изменениях. __Свойство__ `DataBindings` определяет не один элемент, а коллекцию привязок. Причиной этого является то, что у одного элемента управления есть несколько свойств, каждое из которых может быть привязано к своему источнику данных. Например, для свойства `Text` элемента `label1` может использоваться одна привязка в коллекции, а для свойства `ForeColor` этого элемента — другая. Однако одно свойство элемента управления не может быть привязано к нескольким источникам данных. Для добавления объекта `Binding` в коллекцию используется метод `Add` коллекции, который имеет 7 перегрузок. Приведем первые четыре версии метода `Add`, используемые в данном учебнике: \n",
    "\n",
    "\n",
    "Страница 203\n",
    "\n",
    "-----------"
   ]
  },
  {
   "cell_type": "markdown",
   "id": "b78dd043",
   "metadata": {},
   "source": [
    "\n",
    "    public void Add(Binding binding)\n",
    "добавляет заданный объект Binding в коллекцию.\n",
    "\n",
    "    public Binding Add (string propertyName, Object dataSource, string dataMember)\n",
    "создает привязку (объект Binding), используя имя свойства заданного элемента управления, источник данных и член данных (свойство), и добавляет эту привязку в коллекцию. \n",
    "\n",
    "    public Binding Add(string propertyName, Object dataSource, string data Member, bool formatting Enabled)\n",
    "создает привязку заданного свойства элемента управления с заданным членом (свойством) указанного источника данных, используя сведения о том, включено ли форматирование, и добавляет привязку в коллекцию.\n",
    "\n",
    "    public Binding Add(string propertyName, Object data Source, string dataMember, bool formatting Enabled, DataSourceUpdateMode update Mode)\n",
    "создает привязку, связывающую заданное свойство элемента управления с заданным членом (свойством) указанного источника данных, при необходимости включая форматирование и учитывая настройку обновления. Привязка добавляется в коллекцию.\n",
    "\n",
    "Страница 204\n",
    "\n",
    "--------------"
   ]
  },
  {
   "cell_type": "markdown",
   "id": "bffe9215",
   "metadata": {},
   "source": [
    "__Параметры__:\n",
    "- __propertyName__ — имя свойства элемента управления, которое привязываем к источнику данных.\n",
    "- __dataSource__ — объект `object`, предоставляющий источник данных. __dataMember__ - привязываемое свойство (член данных) или список источника данных. Параметр может быть пустой строкой (\"\"), одним именем свойства или иерархией имен, разделенных точками. Пример иерархии имен: `Regions.regionsToCustomers.CustomerFirstName` Каждый член иерархии, как правило, является свойством\n",
    "- __formattingEnabled__ — значение true разрешает форматирование выводимых данных, false — не разрешает.\n",
    "- __dataSourceUpdateMode__ — член одноименного перечисления, указывает, в каких случаях должно производиться обновление ис точника данных при изменениях в связанном элементе управления. Члены перечисления `DataSourceUpdateMode`:\n",
    "- __OnValidation__ — источник данных обновляется при проверке свойства элемента управления. После проверки у значения в свойстве элемента управления также будет изменен формат.\n",
    "- __OnPropertyChanged__ - источник данных обновляется при каждом изменении свойства элемента управления.\n",
    "- __Never__ — источник данных никогда не обновляется и значения, введенные в элементе управления, не анализируются, не проверяются и не переформатируются.\n",
    "\n",
    "Страница 205\n",
    "\n",
    "------------"
   ]
  },
  {
   "cell_type": "markdown",
   "id": "f1c0bb52",
   "metadata": {},
   "source": [
    "Если в перечисленных выше версиях метода `Add` со второй по седьмую мы заменим в тексте подстроку `Binding Add` на `Binding`, то получим перегрузки конструктора `Binding` — шесть версий. __Первая версия__ метода `Add` принимает готовый объект `Binding`. В версиях со второй по седьмую методы `Add`, используя свои аргументы, сами создают объекты типа `Binding`, конструкторам которых передают те же аргументы и в той же последовательности. __Исходя из вышесказанного__, следующие два метода Add равносильны:\n",
    "\n",
    "    label1.DataBindings.Add(\"Text\", textBox1, \"Text\");\n",
    "-И-\n",
    "    \n",
    "    label1.DataBindings.Add(new Binding(\"Text\", textBox1, \"Text\"));\n",
    "В приведенных выше вызовах метода `Add` осуществляется простая привязка свойства `Text` элемента управления `label1` к свойству `Text` элемента управления `textBox1`. __Несмотря на то что__ методы `Add` без «new Binding» короче в написании, среда разработки `Visual Studio`, генерируя привязку в файле `Form1.Designer.cs`, всегда использует первую версию мстода `Add`, создавая объект `Binding` внутри вызова (см. последний пример выше). На рис. 18.6 показана связь элементов простой привязки.\n",
    "\n",
    "Страница 206\n",
    "\n",
    "----------"
   ]
  },
  {
   "attachments": {
    "image.png": {
     "image/png": "[encoded data removed]"
    }
   },
   "cell_type": "markdown",
   "id": "d68916dd",
   "metadata": {},
   "source": [
    "![image.png](attachment:image.png)"
   ]
  },
  {
   "cell_type": "markdown",
   "id": "b0fbb3eb",
   "metadata": {},
   "source": [
    "Рис. 18.6. Связь элементов простой привязки\n",
    "\n",
    "# ПРИМЕРЫ ПРОСТОЙ ПРИВЯЗКИ\n",
    "\n",
    "\n",
    "\n",
    "__Пример__. Свойство `Text` элемента управления `label1` привязывается к свойству `Text` элемента управления `textBox1`. В примере демонстрируется создание объекта `Binding` отдельным оператором.\n",
    "\n",
    "    Binding bnd1 = new Binding(\"Text\", textBox1, \"Text\", true);\n",
    "    label1.DataBindings.Add(bnd1);\n",
    "В результате такой привязки, при вводе символов в текстовое поле, они тут же отображаются в `label1`. __Пример__. Два свойства элемента управления `label1` — `Text` и `ForeColor` — привязываются к разным источникам. Создаётся коллекция привязок, состоящая из двух объектов `Binding`.\n",
    "\n",
    "    label1.DataBindings.Add(\"Text\", textBox1, \"Text\");\n",
    "    label1.DataBindings.Add(\"ForeColor\", textBox1, \"ForeColor\");\n",
    "\n",
    "Страница 207\n",
    "\n",
    "----------"
   ]
  },
  {
   "cell_type": "markdown",
   "id": "32682ad5",
   "metadata": {},
   "source": [
    "__Пример__. В качестве источника данных используется другая привязка. Ниже показано, как `textBox2.Text` привязывается к `textBox1.Text`, а `label1.Text` — к `textBox2`. Text. По сути, элемент `textBox1` является общим источником данных.\n",
    "\n",
    "    textBox2.DataBindings.Add(\"Text\", textBox1, \"Text\");\n",
    "    label1.DataBindings.Add(\"Text\", textBox2, \"Text\");\n",
    "На практике `label1` целесообразнее было бы привязать к `textBox1`.\n",
    "\n",
    "__Пример__. Свойство `Text` элемента управления `textBox1` привязывается к свойству `P1` объекта `myObj` типа `MyClass`. (Определение класса `MyClass` дано в разделе 17.5.)\n",
    "\n",
    "    MyClass myObj = new MyClass (10, 20); // Создаем объект.\n",
    "    textBox1.DataBindings.Add(\"Text\", myObi, \"P1\");\n",
    "Свойство `P1` в примере будет изменяться вслед за изменением свойства `Text`, однако свойство `Text` не будет изменяться вслед за изменением свойства `Р1`.\n",
    "\n"
   ]
  },
  {
   "cell_type": "markdown",
   "id": "de95434a",
   "metadata": {},
   "source": [
    "__Пример__. Свойство `Text` элемента управления `textBox1` привязывается к свойству `S` формы.\n",
    "    \n",
    "    public stringS { get; set; }\n",
    "    public Form1()\n",
    "    {\n",
    "        InitializeComponent();\n",
    "        s = \"123\";\n",
    "        textBox1.DataBindings.Add(\"Text\", this, \"S\");\n",
    "    }\n",
    "Свойство `S` будет отслеживать изменения содержимого текстового поля.\n",
    "\n",
    "__Пример__. Свойство BackColor формы (this) привязывается к свойству параметра FormBackColor объекта mySet.\n",
    "\n",
    "    this.DataBindings.Add(\n",
    "        BackColor\"\n",
    "        , mySet\n",
    "        , \"FormBackColor\" true\n",
    "        , DataSourceUpdateMode.OnPropertyChanged\n",
    "    );\n",
    "Параметры программы используются в технологии сохранения состояния программы в файле. Простая привязка свойств элементов управления к парамерам программы подробно рассматривается во втором томе учебника. Такая привязка не работает, если в методе `Add` не указан аргумент `DataSourceUpdateMode.OnPropertyChanged`.\n",
    "\n",
    "__Пример 6__. Свойство `Text` элемента управления `TextBox` привязывается к свойству `Value` элемента управления `DateTimePicker`. \n",
    "\n",
    "    textBox4.DataBindings.Add(\"Text\", dateTimePicker1, \"Value\");\n",
    "\n",
    "Страница 208\n",
    "\n",
    "----------"
   ]
  },
  {
   "cell_type": "markdown",
   "id": "a19989b9",
   "metadata": {},
   "source": [
    "# ПРОСТАЯ ПРИВЯЗКА К СЛОЖНОМУ ОБЪЕКТУ\n",
    "Класс `Binding` служит для создания и поддержания простой привязки свойства элемента управления не только к свойству отдельного объекта, но и к свойству текущего объекта в списке обьектов.\n",
    "\n",
    "__Пример__. Свойство `Text` элемента управления `textBox1` привязывается к колонке студ таблицы «студенты» базы данных\n",
    "\n",
    "    dataSet.textBox1.DataBinaings.Add(\"Text\", dataset, \"студенты.студІD\");\n",
    "    \n",
    "Объект `dataSet` — это набор данных, включающий реляционные таблицы. Набор данных чаще всего является отображением базы данных в оперативную память. Таблица состоит из коллекции строк, одна из которых является текущей.\n",
    "\n",
    "Страница 209\n",
    "\n",
    "----------"
   ]
  },
  {
   "cell_type": "markdown",
   "id": "da962fd3",
   "metadata": {},
   "source": [
    "__Пример__. Свойство `Text` элемента управления `textBox1` при вязывается к текущему элементу массива:\n",
    "\n",
    "    Student[] студенты = new Student[3];\n",
    "    студенты[0] = new Student (\"Иванов\", 125, \"Москва\");\n",
    "    студенты[1] = new Student (\"Петров\", 1386, \"Курск\");\n",
    "    студенты[2] = new Student (\"Сидоров\", 63, \"Тула\"):\n",
    "    textBox1.DataBindings.Add(\"Text\", студенты, \"Name\");\n",
    "\n",
    "Свойство `Name` определяст фамилию студента. В этом при мере текущим объектом является первый (индекс 0). Для перехода к другому объекту нужно предпринять дополнительные усилия. Со сложными элементами управления типа `ListBox` или `ComboBox` таких проблем не возникает. __Если привязка__ выполняется к свойству текущего объекта в списке, и этот список привязан к источнику данных с помощью соединителя `BindingSource`, то рекомендуется этот соединитель использовать в качестве источника данных в простой привязке.\n",
    "\n"
   ]
  },
  {
   "cell_type": "markdown",
   "id": "8d8b8aee",
   "metadata": {},
   "source": [
    "__Пример__. Свойство `Text` элемента управления `label1` привязывается к столбцу `ProductName` через компонент `BindingSource`, таблице который привязывается к таблице `Products` базы данных NorthwindDataSet.\n",
    "\n",
    "    //bindingSource1 = new BindingSource(components);\n",
    "    // Привяжем соединитель к базе данных.\n",
    "    binding Source1.DataSource = NorthwindDataSet;\n",
    "    // Выбираем конкретную таблицу.\n",
    "    bindingSource1.DataMember = \"Products\";\n",
    "    // Привяжем свойство label1.Text к столбцу ProductName таблицы,\n",
    "\n"
   ]
  },
  {
   "cell_type": "markdown",
   "id": "17a1c45a",
   "metadata": {},
   "source": [
    "Страница 210\n",
    "\n",
    "--------"
   ]
  }
 ],
 "metadata": {
  "kernelspec": {
   "display_name": "Python 3 (ipykernel)",
   "language": "python",
   "name": "python3"
  },
  "language_info": {
   "codemirror_mode": {
    "name": "ipython",
    "version": 3
   },
   "file_extension": ".py",
   "mimetype": "text/x-python",
   "name": "python",
   "nbconvert_exporter": "python",
   "pygments_lexer": "ipython3",
   "version": "3.11.11"
  }
 },
 "nbformat": 4,
 "nbformat_minor": 5
}
